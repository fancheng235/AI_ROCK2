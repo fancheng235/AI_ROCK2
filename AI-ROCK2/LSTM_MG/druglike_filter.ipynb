{
 "cells": [
  {
   "cell_type": "code",
   "execution_count": 2,
   "metadata": {},
   "outputs": [],
   "source": [
    "from rdkit import Chem\n",
    "with open(\"sampled_SMILES_preped.smi\") as f:\n",
    "    smis_preped = [l.rstrip() for l in f]"
   ]
  },
  {
   "cell_type": "code",
   "execution_count": 3,
   "metadata": {},
   "outputs": [
    {
     "data": {
      "text/plain": [
       "54132"
      ]
     },
     "execution_count": 3,
     "metadata": {},
     "output_type": "execute_result"
    }
   ],
   "source": [
    "len(smis_preped)"
   ]
  },
  {
   "cell_type": "code",
   "execution_count": 4,
   "metadata": {},
   "outputs": [],
   "source": [
    "#filter1: retain compounds obeying Ro5 and remove PAINS\n",
    "from adme_pred import ADME\n",
    "smis_filtered_1 = []\n",
    "for smi in smis_preped:\n",
    "    mol = ADME(smi)\n",
    "    if mol.druglikeness_lipinski() and not mol.pains():\n",
    "        smis_filtered_1.append(smi)"
   ]
  },
  {
   "cell_type": "code",
   "execution_count": 5,
   "metadata": {},
   "outputs": [
    {
     "data": {
      "text/plain": [
       "38860"
      ]
     },
     "execution_count": 5,
     "metadata": {},
     "output_type": "execute_result"
    }
   ],
   "source": [
    "len(smis_filtered_1) "
   ]
  },
  {
   "cell_type": "code",
   "execution_count": 6,
   "metadata": {},
   "outputs": [
    {
     "name": "stderr",
     "output_type": "stream",
     "text": [
      "100%|██████████| 38860/38860 [03:25<00:00, 189.20it/s]\n"
     ]
    }
   ],
   "source": [
    "#filter2:QED>0.3, SAscore<5\n",
    "from rdkit.Chem.QED import qed\n",
    "from tqdm import tqdm\n",
    "import sascorer\n",
    "mols_filtered_2 = []\n",
    "for smi in tqdm(smis_filtered_1):\n",
    "    mol = Chem.MolFromSmiles(smi)\n",
    "    qed_mol = qed(mol)\n",
    "    sascore_mol = sascorer.calculateScore(mol)\n",
    "    if qed_mol>0.3 and sascore_mol<5:\n",
    "        mols_filtered_2.append(mol)"
   ]
  },
  {
   "cell_type": "code",
   "execution_count": 7,
   "metadata": {},
   "outputs": [
    {
     "data": {
      "text/plain": [
       "37732"
      ]
     },
     "execution_count": 7,
     "metadata": {},
     "output_type": "execute_result"
    }
   ],
   "source": [
    "len(mols_filtered_2)"
   ]
  },
  {
   "cell_type": "code",
   "execution_count": 20,
   "metadata": {},
   "outputs": [
    {
     "name": "stderr",
     "output_type": "stream",
     "text": [
      "100%|██████████| 21465/21465 [00:03<00:00, 6629.59it/s]\n"
     ]
    }
   ],
   "source": [
    "writer = Chem.SDWriter(\"sampled_fordock.sdf\")\n",
    "for i, mol in enumerate(tqdm(mols_filtered_2)):\n",
    "    mol.SetProp(\"_Name\", \"molecule\" + str(i+1))\n",
    "    writer.write(mol)\n",
    "writer.close()"
   ]
  },
  {
   "cell_type": "code",
   "execution_count": 8,
   "metadata": {},
   "outputs": [
    {
     "name": "stderr",
     "output_type": "stream",
     "text": [
      "100%|██████████| 37732/37732 [01:59<00:00, 315.58it/s]\n"
     ]
    }
   ],
   "source": [
    "import os\n",
    "for i, mol in enumerate(tqdm(mols_filtered_2)):\n",
    "    m_name = \"molecule\" + str(i+1)\n",
    "    mol.SetProp(\"_Name\", m_name)\n",
    "    with Chem.SDWriter(os.path.join(\"vl-202312\", m_name+\".sdf\")) as w:\n",
    "        w.write(mol)"
   ]
  },
  {
   "cell_type": "code",
   "execution_count": 19,
   "metadata": {},
   "outputs": [],
   "source": [
    "writer = Chem.SDWriter(\"f5.sdf\")\n",
    "mol = Chem.MolFromSmiles(\"C(=O)(N1CCC(C(=O)N2CC=C(c3ccccc3)CC2)CC1)c1n[nH]c(-c2ncccc2)c1\")\n",
    "mol = Chem.AddHs(mol)\n",
    "writer.write(mol)\n",
    "writer.close()"
   ]
  },
  {
   "cell_type": "code",
   "execution_count": 16,
   "metadata": {},
   "outputs": [
    {
     "name": "stderr",
     "output_type": "stream",
     "text": [
      "100%|██████████| 21465/21465 [00:06<00:00, 3238.79it/s]\n"
     ]
    }
   ],
   "source": [
    "#filter3:compute ECFP4 similarity between f5 and molecules\n",
    "from rdkit import DataStructs\n",
    "from rdkit.Chem import AllChem\n",
    "\n",
    "writer = Chem.SDWriter(\"rock2_f3_fcfp6.sdf\")\n",
    "f5_mol = Chem.MolFromSmiles(\"C(=O)(N1CCC(C(=O)N2CC=C(c3ccccc3)CC2)CC1)c1n[nH]c(-c2ncccc2)c1\")\n",
    "f5_fp = AllChem.GetMorganFingerprintAsBitVect(f5_mol, 3, nBits=1024, useFeatures=True)\n",
    "for i, mol in enumerate(tqdm(mols_filtered_2)):\n",
    "    mol_fp = AllChem.GetMorganFingerprintAsBitVect(mol, 3, nBits=1024, useFeatures=True)\n",
    "    sims = DataStructs.FingerprintSimilarity(f5_fp, mol_fp)\n",
    "    mol.SetProp(\"_Name\", \"molecule\" + str(i+1))\n",
    "    mol.SetDoubleProp(\"sims\", sims)\n",
    "    writer.write(mol)\n",
    "writer.close()\n"
   ]
  }
 ],
 "metadata": {
  "kernelspec": {
   "display_name": "tf2",
   "language": "python",
   "name": "python3"
  },
  "language_info": {
   "codemirror_mode": {
    "name": "ipython",
    "version": 3
   },
   "file_extension": ".py",
   "mimetype": "text/x-python",
   "name": "python",
   "nbconvert_exporter": "python",
   "pygments_lexer": "ipython3",
   "version": "3.7.13"
  },
  "orig_nbformat": 4
 },
 "nbformat": 4,
 "nbformat_minor": 2
}
