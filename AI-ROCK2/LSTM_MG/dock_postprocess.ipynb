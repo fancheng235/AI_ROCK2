{
 "cells": [
  {
   "cell_type": "code",
   "execution_count": 36,
   "metadata": {},
   "outputs": [],
   "source": [
    "import re\n",
    "import pandas as pd\n",
    "from rdkit import Chem\n",
    "from rdkit import DataStructs\n",
    "from rdkit.Chem import AllChem\n",
    "from rdkit.Chem.QED import qed\n",
    "from RAscore import RAscore_NN\n",
    "from tqdm import tqdm"
   ]
  },
  {
   "cell_type": "code",
   "execution_count": 2,
   "metadata": {},
   "outputs": [],
   "source": [
    "mols_vl = Chem.SDMolSupplier(\"sampled_fordock.sdf\")"
   ]
  },
  {
   "cell_type": "code",
   "execution_count": 6,
   "metadata": {},
   "outputs": [],
   "source": [
    "df_scores = pd.read_csv(\"vina_scores/scores.txt\", sep=\"\\t\")"
   ]
  },
  {
   "cell_type": "code",
   "execution_count": 10,
   "metadata": {},
   "outputs": [],
   "source": [
    "df_scores_sorted = df_scores.sort_values(by=['scores'], ascending=True)"
   ]
  },
  {
   "cell_type": "code",
   "execution_count": 12,
   "metadata": {},
   "outputs": [],
   "source": [
    "df_scores_sorted_btf5 = df_scores_sorted[df_scores_sorted['scores'] < -11.8]"
   ]
  },
  {
   "cell_type": "code",
   "execution_count": 60,
   "metadata": {},
   "outputs": [],
   "source": [
    "df_hits = df_scores_sorted_btf5.reset_index(drop=True)\n",
    "#df_hits['scores'] = df_hits['scores'].astype(float)"
   ]
  },
  {
   "cell_type": "code",
   "execution_count": 29,
   "metadata": {},
   "outputs": [],
   "source": [
    "hits_names = list(df_scores_sorted_btf5['ligand_name'])\n",
    "hits_mol = []\n",
    "for n in hits_names:\n",
    "    idx = re.search('mol(\\d+)', n).group(1)\n",
    "    hits_mol.append(mols_vl[int(idx) - 1])"
   ]
  },
  {
   "cell_type": "code",
   "execution_count": 32,
   "metadata": {},
   "outputs": [],
   "source": [
    "f5_mol = Chem.MolFromSmiles(\"C(=O)(N1CCC(C(=O)N2CC=C(c3ccccc3)CC2)CC1)c1n[nH]c(-c2ncccc2)c1\")\n",
    "f5_fp = AllChem.GetMorganFingerprintAsBitVect(f5_mol, 3, nBits=1024, useFeatures=True)"
   ]
  },
  {
   "cell_type": "code",
   "execution_count": 69,
   "metadata": {},
   "outputs": [
    {
     "name": "stdout",
     "output_type": "stream",
     "text": [
      "WARNING:tensorflow:SavedModel saved prior to TF 2.5 detected when loading Keras model. Please ensure that you are saving the model with model.save() or tf.keras.models.save_model(), *NOT* tf.saved_model.save(). To confirm, there should be a file named \"keras_metadata.pb\" in the SavedModel directory.\n"
     ]
    },
    {
     "name": "stderr",
     "output_type": "stream",
     "text": [
      "100%|██████████| 227/227 [00:03<00:00, 60.95it/s]\n"
     ]
    }
   ],
   "source": [
    "nn_scorer = RAscore_NN.RAScorerNN()\n",
    "\n",
    "writer = Chem.SDWriter(\"rock2_f5_hits.sdf\")\n",
    "for i, mol in enumerate(tqdm(hits_mol)):\n",
    "    mol_fp = AllChem.GetMorganFingerprintAsBitVect(mol, 3, nBits=1024, useFeatures=True)\n",
    "    sims = DataStructs.FingerprintSimilarity(f5_fp, mol_fp)\n",
    "    mol.SetDoubleProp(\"sims(FCFP_6)\", sims)\n",
    "\n",
    "    mol.SetDoubleProp(\"QED\", qed(mol))\n",
    "\n",
    "    smi = Chem.MolToSmiles(mol)\n",
    "    mol.SetDoubleProp(\"RA score\", float(nn_scorer.predict(smi)))\n",
    "\n",
    "    mol.SetDoubleProp(\"vina score\", df_hits.iloc[i, 1])\n",
    "    writer.write(mol)\n",
    "writer.close()"
   ]
  }
 ],
 "metadata": {
  "kernelspec": {
   "display_name": "ri",
   "language": "python",
   "name": "ri"
  },
  "language_info": {
   "codemirror_mode": {
    "name": "ipython",
    "version": 3
   },
   "file_extension": ".py",
   "mimetype": "text/x-python",
   "name": "python",
   "nbconvert_exporter": "python",
   "pygments_lexer": "ipython3",
   "version": "3.7.11"
  },
  "orig_nbformat": 4,
  "vscode": {
   "interpreter": {
    "hash": "d4ed2dd97041b7add4fb55bfa6bda19f53222e5fd40e7bc96b6f944455aad310"
   }
  }
 },
 "nbformat": 4,
 "nbformat_minor": 2
}
